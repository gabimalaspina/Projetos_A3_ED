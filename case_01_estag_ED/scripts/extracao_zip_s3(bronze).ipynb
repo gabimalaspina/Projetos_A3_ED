{
 "cells": [
  {
   "cell_type": "code",
   "execution_count": 1,
   "metadata": {},
   "outputs": [],
   "source": [
    "# bibliotecas\n",
    "\n",
    "import zipfile\n",
    "import boto3\n",
    "from io import BytesIO"
   ]
  },
  {
   "cell_type": "code",
   "execution_count": 46,
   "metadata": {},
   "outputs": [],
   "source": [
    "# variáveis de entrada\n",
    "nome_bucket = 'elasticbeanstalk-us-east-2-047710767346'\n",
    "nome_subpasta = 'Case_A3'\n",
    "pasta_origem = 'arquivos_zip'\n",
    "pasta_destino = 'arquivos_extraidos'\n",
    "\n",
    "s3 = boto3.client('s3')"
   ]
  },
  {
   "cell_type": "code",
   "execution_count": 49,
   "metadata": {},
   "outputs": [
    {
     "name": "stdout",
     "output_type": "stream",
     "text": [
      "Erro ao extrair o arquivo : O arquivo  não é um arquivo ZIP válido.\n",
      "O arquivo com os dados de 1995 foi extraído para a pasta Case_A3/arquivos_extraidos/1995_microdados_censo_da_educacao_superior_1995/\n",
      "O arquivo com os dados de 1996 foi extraído para a pasta Case_A3/arquivos_extraidos/1996_microdados_censo_da_educacao_superior_1996/\n",
      "O arquivo com os dados de 1997 foi extraído para a pasta Case_A3/arquivos_extraidos/1997_microdados_censo_da_educacao_superior_1997/\n",
      "O arquivo com os dados de 1998 foi extraído para a pasta Case_A3/arquivos_extraidos/1998_microdados_censo_da_educacao_superior_1998/\n",
      "O arquivo com os dados de 1999 foi extraído para a pasta Case_A3/arquivos_extraidos/1999_microdados_censo_da_educacao_superior_1999/\n",
      "O arquivo com os dados de 2000 foi extraído para a pasta Case_A3/arquivos_extraidos/2000_microdados_censo_da_educacao_superior_2000/\n",
      "O arquivo com os dados de 2001 foi extraído para a pasta Case_A3/arquivos_extraidos/2001_microdados_censo_da_educacao_superior_2001/\n",
      "O arquivo com os dados de 2002 foi extraído para a pasta Case_A3/arquivos_extraidos/2002_microdados_censo_da_educacao_superior_2002/\n",
      "O arquivo com os dados de 2003 foi extraído para a pasta Case_A3/arquivos_extraidos/2003_microdados_censo_da_educacao_superior_2003/\n",
      "O arquivo com os dados de 2004 foi extraído para a pasta Case_A3/arquivos_extraidos/2004_microdados_censo_da_educacao_superior_2004/\n",
      "O arquivo com os dados de 2005 foi extraído para a pasta Case_A3/arquivos_extraidos/2005_microdados_censo_da_educacao_superior_2005/\n",
      "O arquivo com os dados de 2006 foi extraído para a pasta Case_A3/arquivos_extraidos/2006_microdados_censo_da_educacao_superior_2006/\n",
      "O arquivo com os dados de 2007 foi extraído para a pasta Case_A3/arquivos_extraidos/2007_microdados_censo_da_educacao_superior_2007/\n",
      "O arquivo com os dados de 2008 foi extraído para a pasta Case_A3/arquivos_extraidos/2008_microdados_censo_da_educacao_superior_2008/\n",
      "O arquivo com os dados de 2009 foi extraído para a pasta Case_A3/arquivos_extraidos/2009_microdados_censo_da_educacao_superior_2009/\n",
      "O arquivo com os dados de 2010 foi extraído para a pasta Case_A3/arquivos_extraidos/2010_microdados_censo_da_educacao_superior_2010/\n",
      "O arquivo com os dados de 2011 foi extraído para a pasta Case_A3/arquivos_extraidos/2011_microdados_censo_da_educacao_superior_2011/\n",
      "O arquivo com os dados de 2012 foi extraído para a pasta Case_A3/arquivos_extraidos/2012_microdados_censo_da_educacao_superior_2012/\n",
      "O arquivo com os dados de 2013 foi extraído para a pasta Case_A3/arquivos_extraidos/2013_microdados_censo_da_educacao_superior_2013/\n",
      "O arquivo com os dados de 2014 foi extraído para a pasta Case_A3/arquivos_extraidos/2014_microdados_censo_da_educacao_superior_2014/\n",
      "O arquivo com os dados de 2015 foi extraído para a pasta Case_A3/arquivos_extraidos/2015_microdados_censo_da_educacao_superior_2015/\n",
      "O arquivo com os dados de 2016 foi extraído para a pasta Case_A3/arquivos_extraidos/2016_microdados_censo_da_educacao_superior_2016/\n",
      "O arquivo com os dados de 2017 foi extraído para a pasta Case_A3/arquivos_extraidos/2017_microdados_censo_da_educacao_superior_2017/\n",
      "O arquivo com os dados de 2018 foi extraído para a pasta Case_A3/arquivos_extraidos/2018_microdados_censo_da_educacao_superior_2018/\n",
      "O arquivo com os dados de 2019 foi extraído para a pasta Case_A3/arquivos_extraidos/2019_microdados_censo_da_educacao_superior_2019/\n",
      "O arquivo com os dados de 2020 foi extraído para a pasta Case_A3/arquivos_extraidos/2020_microdados_censo_da_educacao_superior_2020/\n",
      "O arquivo com os dados de 2021 foi extraído para a pasta Case_A3/arquivos_extraidos/2021_microdados_censo_da_educacao_superior_2021/\n",
      "O arquivo com os dados de 2022 foi extraído para a pasta Case_A3/arquivos_extraidos/2022_microdados_censo_da_educacao_superior_2022/\n"
     ]
    }
   ],
   "source": [
    "def extrair_arquivos_zip(nome_bucket, nome_subpasta, pasta_origem, pasta_destino):\n",
    "    # verificar se a pasta destino existe e, senão, criá-la\n",
    "    try:\n",
    "        s3.head_object(Bucket=nome_bucket, Key=f'{nome_subpasta}/{pasta_destino}/')\n",
    "    except:\n",
    "        s3.put_object(Bucket=nome_bucket, Key=f'{nome_subpasta}/{pasta_destino}/')\n",
    "\n",
    "    # listar os arquivos zip na pasta \"arquivos_zip\"\n",
    "    objetos = s3.list_objects(Bucket=nome_bucket, Prefix=f'{nome_subpasta}/{pasta_origem}')\n",
    "\n",
    "    # iterar sobre os arquivos zip e extraí-los\n",
    "    for obj in objetos.get('Contents', []):\n",
    "        nome_zip = obj['Key'].split('/')[-1]\n",
    "\n",
    "        try:\n",
    "            # verificar se o arquivo é um ZIP\n",
    "            if not nome_zip.endswith('.zip'):\n",
    "                raise ValueError(f'O arquivo {nome_zip} não é um arquivo ZIP válido.')\n",
    "\n",
    "            # obter o conteúdo do arquivo zip\n",
    "            response = s3.get_object(Bucket=nome_bucket, Key=obj['Key'])\n",
    "            conteudo_zip = response['Body'].read()\n",
    "\n",
    "            # criar uma subpasta única para cada arquivo dentro do S3\n",
    "            subpasta_arquivo = f'{nome_subpasta}/{pasta_destino}/{nome_zip.replace(\".zip\", \"\")}/'\n",
    "            s3.put_object(Bucket=nome_bucket, Key=subpasta_arquivo)\n",
    "\n",
    "            # extrair o arquivo zip para a subpasta específica dentro do S3\n",
    "            with zipfile.ZipFile(BytesIO(conteudo_zip)) as zip_ref:\n",
    "                for file_info in zip_ref.infolist():\n",
    "                    s3.put_object(\n",
    "                        Bucket=nome_bucket,\n",
    "                        Key=subpasta_arquivo + file_info.filename,\n",
    "                        Body=zip_ref.read(file_info.filename)\n",
    "                    )\n",
    "\n",
    "            # imprimir mensagem de confirmação personalizada\n",
    "            ano = nome_zip.split(\"_\")[0] if nome_zip.split(\"_\")[0].isdigit() else \"desconhecido\"\n",
    "            print(f'O arquivo com os dados de {ano} foi extraído para a pasta {subpasta_arquivo}')\n",
    "        except Exception as e:\n",
    "            print(f'Erro ao extrair o arquivo {nome_zip}: {e}')\n",
    "\n",
    "# extraindo os arquivos zip\n",
    "extrair_arquivos_zip(nome_bucket, nome_subpasta, pasta_origem, pasta_destino)"
   ]
  }
 ],
 "metadata": {
  "kernelspec": {
   "display_name": "Python 3",
   "language": "python",
   "name": "python3"
  },
  "language_info": {
   "codemirror_mode": {
    "name": "ipython",
    "version": 3
   },
   "file_extension": ".py",
   "mimetype": "text/x-python",
   "name": "python",
   "nbconvert_exporter": "python",
   "pygments_lexer": "ipython3",
   "version": "3.9.2"
  }
 },
 "nbformat": 4,
 "nbformat_minor": 2
}
