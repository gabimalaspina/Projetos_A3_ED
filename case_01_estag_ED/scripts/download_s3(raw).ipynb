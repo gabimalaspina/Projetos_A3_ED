{
 "cells": [
  {
   "cell_type": "code",
   "execution_count": 1,
   "metadata": {},
   "outputs": [],
   "source": [
    "import os\n",
    "import requests\n",
    "from bs4 import BeautifulSoup as bs\n",
    "import boto3"
   ]
  },
  {
   "cell_type": "code",
   "execution_count": 2,
   "metadata": {},
   "outputs": [],
   "source": [
    "# Configuração inicial\n",
    "url = 'https://www.gov.br/inep/pt-br/acesso-a-informacao/dados-abertos/microdados/censo-da-educacao-superior'\n",
    "\n",
    "s3 = boto3.client('s3')\n",
    "bucket_name = 'elasticbeanstalk-us-east-2-047710767346'\n",
    "subfolder_name = 'Case_A3'\n",
    "\n",
    "# verificar se a pasta Case_A3 existe no bucket\n",
    "try:\n",
    "    s3.head_object(Bucket=bucket_name, Key=subfolder_name + '/')\n",
    "except:\n",
    "    # se a pasta não existe, criar\n",
    "    s3.put_object(Bucket=bucket_name, Key=subfolder_name + '/')\n",
    "\n",
    "# verificar se a pasta \"arquivos_zip\" dentro de Case_A3 existe no bucket\n",
    "try:\n",
    "    s3.head_object(Bucket=bucket_name, Key=f'{subfolder_name}/arquivos_zip/')\n",
    "except:\n",
    "    # se a pasta não existe, criar\n",
    "    s3.put_object(Bucket=bucket_name, Key=f'{subfolder_name}/arquivos_zip/')"
   ]
  },
  {
   "cell_type": "code",
   "execution_count": 3,
   "metadata": {},
   "outputs": [
    {
     "name": "stderr",
     "output_type": "stream",
     "text": [
      "/usr/lib/python3/dist-packages/urllib3/connectionpool.py:1015: InsecureRequestWarning: Unverified HTTPS request is being made to host 'www.gov.br'. Adding certificate verification is strongly advised. See: https://urllib3.readthedocs.io/en/latest/advanced-usage.html#ssl-warnings\n",
      "  warnings.warn(\n"
     ]
    }
   ],
   "source": [
    "# raspando a página\n",
    "html_bruto = requests.get(url, verify=False) \n",
    "html_conteudo = html_bruto.text\n",
    "html_estruturado = bs(html_bruto.content, 'html.parser')\n",
    "\n",
    "# Configurando o parser e baixando os dados\n",
    "html_estruturado = bs(html_bruto.content, 'html.parser')\n",
    "\n",
    "# separando a div desejada - \"parent_div\"\n",
    "parent_div = html_estruturado.find('div', {'id': 'parent-fieldname-text'})\n",
    "\n",
    "# lista para armazenar os links para download\n",
    "links_download = []"
   ]
  },
  {
   "cell_type": "code",
   "execution_count": 4,
   "metadata": {},
   "outputs": [],
   "source": [
    "# percorrendo os elementos da div para encontrar os links\n",
    "\n",
    "for year_element in parent_div.find_all('p', {'class': 'callout'}):\n",
    "    year = year_element.find('strong').text.strip()\n",
    "    ul_element = year_element.find_next('ul')\n",
    "\n",
    "    for li_element in ul_element.find_all('li'):\n",
    "        link = li_element.find('a')['href']\n",
    "        links_download.append((year, link))"
   ]
  },
  {
   "cell_type": "code",
   "execution_count": 5,
   "metadata": {},
   "outputs": [],
   "source": [
    "# para impedir que a mensagem de erro apareça\n",
    "\n",
    "from requests.packages.urllib3.exceptions import InsecureRequestWarning\n",
    "requests.packages.urllib3.disable_warnings(InsecureRequestWarning)"
   ]
  },
  {
   "cell_type": "code",
   "execution_count": 6,
   "metadata": {},
   "outputs": [
    {
     "name": "stdout",
     "output_type": "stream",
     "text": [
      "O arquivo 2022_microdados_censo_da_educacao_superior_2022.zip foi enviado para o bucket na subpasta Case_A3/arquivos_zip.\n",
      "O arquivo 2021_microdados_censo_da_educacao_superior_2021.zip foi enviado para o bucket na subpasta Case_A3/arquivos_zip.\n",
      "O arquivo 2020_microdados_censo_da_educacao_superior_2020.zip foi enviado para o bucket na subpasta Case_A3/arquivos_zip.\n",
      "O arquivo 2019_microdados_censo_da_educacao_superior_2019.zip foi enviado para o bucket na subpasta Case_A3/arquivos_zip.\n",
      "O arquivo 2018_microdados_censo_da_educacao_superior_2018.zip foi enviado para o bucket na subpasta Case_A3/arquivos_zip.\n",
      "O arquivo 2017_microdados_censo_da_educacao_superior_2017.zip foi enviado para o bucket na subpasta Case_A3/arquivos_zip.\n",
      "O arquivo 2016_microdados_censo_da_educacao_superior_2016.zip foi enviado para o bucket na subpasta Case_A3/arquivos_zip.\n",
      "O arquivo 2015_microdados_censo_da_educacao_superior_2015.zip foi enviado para o bucket na subpasta Case_A3/arquivos_zip.\n",
      "O arquivo 2014_microdados_censo_da_educacao_superior_2014.zip foi enviado para o bucket na subpasta Case_A3/arquivos_zip.\n",
      "O arquivo 2013_microdados_censo_da_educacao_superior_2013.zip foi enviado para o bucket na subpasta Case_A3/arquivos_zip.\n",
      "O arquivo 2012_microdados_censo_da_educacao_superior_2012.zip foi enviado para o bucket na subpasta Case_A3/arquivos_zip.\n",
      "O arquivo 2011_microdados_censo_da_educacao_superior_2011.zip foi enviado para o bucket na subpasta Case_A3/arquivos_zip.\n",
      "O arquivo 2010_microdados_censo_da_educacao_superior_2010.zip foi enviado para o bucket na subpasta Case_A3/arquivos_zip.\n",
      "O arquivo 2009_microdados_censo_da_educacao_superior_2009.zip foi enviado para o bucket na subpasta Case_A3/arquivos_zip.\n",
      "O arquivo 2008_microdados_censo_da_educacao_superior_2008.zip foi enviado para o bucket na subpasta Case_A3/arquivos_zip.\n",
      "O arquivo 2007_microdados_censo_da_educacao_superior_2007.zip foi enviado para o bucket na subpasta Case_A3/arquivos_zip.\n",
      "O arquivo 2006_microdados_censo_da_educacao_superior_2006.zip foi enviado para o bucket na subpasta Case_A3/arquivos_zip.\n",
      "O arquivo 2005_microdados_censo_da_educacao_superior_2005.zip foi enviado para o bucket na subpasta Case_A3/arquivos_zip.\n",
      "O arquivo 2004_microdados_censo_da_educacao_superior_2004.zip foi enviado para o bucket na subpasta Case_A3/arquivos_zip.\n",
      "O arquivo 2003_microdados_censo_da_educacao_superior_2003.zip foi enviado para o bucket na subpasta Case_A3/arquivos_zip.\n",
      "O arquivo 2002_microdados_censo_da_educacao_superior_2002.zip foi enviado para o bucket na subpasta Case_A3/arquivos_zip.\n",
      "O arquivo 2001_microdados_censo_da_educacao_superior_2001.zip foi enviado para o bucket na subpasta Case_A3/arquivos_zip.\n",
      "O arquivo 2000_microdados_censo_da_educacao_superior_2000.zip foi enviado para o bucket na subpasta Case_A3/arquivos_zip.\n",
      "O arquivo 1999_microdados_censo_da_educacao_superior_1999.zip foi enviado para o bucket na subpasta Case_A3/arquivos_zip.\n",
      "O arquivo 1998_microdados_censo_da_educacao_superior_1998.zip foi enviado para o bucket na subpasta Case_A3/arquivos_zip.\n",
      "O arquivo 1997_microdados_censo_da_educacao_superior_1997.zip foi enviado para o bucket na subpasta Case_A3/arquivos_zip.\n",
      "O arquivo 1996_microdados_censo_da_educacao_superior_1996.zip foi enviado para o bucket na subpasta Case_A3/arquivos_zip.\n",
      "O arquivo 1995_microdados_censo_da_educacao_superior_1995.zip foi enviado para o bucket na subpasta Case_A3/arquivos_zip.\n"
     ]
    }
   ],
   "source": [
    "# itera sobre os links para fazer o download e salvar os arquivos\n",
    "for year, link in links_download:\n",
    "    try:\n",
    "        # faz o download e desativa a verificação do certificado SSL\n",
    "        arquivo_zip = requests.get(link, stream=True, verify=False)\n",
    "        arquivo_zip.raise_for_status()  # Verifica se houve erro no download\n",
    "\n",
    "        # envia o arquivo para o bucket do S3 dentro da subpasta \"arquivos_zip\"\n",
    "        s3.upload_fileobj(\n",
    "            arquivo_zip.raw,  # fileobj é o objeto do arquivo a ser enviado. raw é o conteúdo do arquivo e indica que o arquivo não foi aberto (camada de abstração)\n",
    "            bucket_name,  # nome do bucket\n",
    "            f'{subfolder_name}/arquivos_zip/{year}_{link.split(\"/\")[-1]}'  # nome do arquivo no bucket (ano_nome_do_arquivo.zip) e a subpasta (arquivos_zip)\n",
    "        )\n",
    "\n",
    "        print(f'O arquivo {year}_{link.split(\"/\")[-1]} foi enviado para o bucket na subpasta {subfolder_name}/arquivos_zip.')\n",
    "\n",
    "    except Exception as e:\n",
    "        print(f'Erro ao baixar o arquivo {year}_{link.split(\"/\")[-1]}: {e}')"
   ]
  }
 ],
 "metadata": {
  "kernelspec": {
   "display_name": "Python 3",
   "language": "python",
   "name": "python3"
  },
  "language_info": {
   "codemirror_mode": {
    "name": "ipython",
    "version": 3
   },
   "file_extension": ".py",
   "mimetype": "text/x-python",
   "name": "python",
   "nbconvert_exporter": "python",
   "pygments_lexer": "ipython3",
   "version": "3.9.2"
  }
 },
 "nbformat": 4,
 "nbformat_minor": 2
}
